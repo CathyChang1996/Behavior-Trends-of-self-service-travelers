{
 "cells": [
  {
   "cell_type": "code",
   "execution_count": null,
   "metadata": {},
   "outputs": [],
   "source": [
    "url_list=['http://www.mafengwo.cn/u/5017124.html']\n",
    "filtered_url=[]\n",
    "for i in range(0,len(url_list)):\n",
    "    answer_url = url_list[i][:22] + '/wenda' + url_list[i][22:-5] + '/answer.html'\n",
    "    filtered_url.append(answer_url)"
   ]
  },
  {
   "cell_type": "code",
   "execution_count": null,
   "metadata": {},
   "outputs": [],
   "source": [
    "import time\n",
    "from selenium import webdriver\n",
    "browser = webdriver.Chrome()\n",
    "all_location=[]\n",
    "all_dates=[]\n",
    "for u in filtered_url:\n",
    "    browser.get(u)\n",
    "    time.sleep(2)\n",
    "    for i in range(85):\n",
    "        time.sleep(0.5)\n",
    "        try:\n",
    "            date=browser.find_elements_by_css_selector('span.meta-item.meta-time')\n",
    "            location=browser.find_elements_by_css_selector('span.label-mdd')\n",
    "            dates=[]\n",
    "            for d in date:\n",
    "                da=d.text\n",
    "                dates.append(da)\n",
    "            locations=[]\n",
    "            for l in location:\n",
    "                lo=l.text\n",
    "                locations.append(lo)\n",
    "            all_location.extend(locations)\n",
    "            all_dates.extend(dates)\n",
    "            browser.execute_script('window.scrollTo(0, document.body.scrollHeight/1.2);')#test several numbers to choose a suitable one\n",
    "            next_page = browser.find_element_by_partial_link_text('下一页')\n",
    "            next_page.click()\n",
    "        except Exception as e:\n",
    "            print(e)\n",
    "            print('Error on page %s' % i)\n"
   ]
  },
  {
   "cell_type": "code",
   "execution_count": null,
   "metadata": {},
   "outputs": [],
   "source": [
    "dataset={}\n",
    "dataset['location']=all_location\n",
    "dataset['dates']=all_dates\n",
    "import pandas as pd\n",
    "group7=pd.DataFrame(dataset)"
   ]
  },
  {
   "cell_type": "code",
   "execution_count": null,
   "metadata": {},
   "outputs": [],
   "source": [
    "group7"
   ]
  },
  {
   "cell_type": "code",
   "execution_count": null,
   "metadata": {},
   "outputs": [],
   "source": [
    "group7.to_csv('Group7.csv',index=False,encoding='utf_8_sig')"
   ]
  },
  {
   "cell_type": "code",
   "execution_count": null,
   "metadata": {},
   "outputs": [],
   "source": [
    "namelist=pd.read_csv('wenda1201.csv', sep='\\t')\n",
    "namelist"
   ]
  },
  {
   "cell_type": "code",
   "execution_count": null,
   "metadata": {},
   "outputs": [],
   "source": [
    "namelist.groupby('answer')\n",
    "namelist"
   ]
  },
  {
   "cell_type": "code",
   "execution_count": null,
   "metadata": {},
   "outputs": [],
   "source": []
  }
 ],
 "metadata": {
  "kernelspec": {
   "display_name": "Python 3",
   "language": "python",
   "name": "python3"
  },
  "language_info": {
   "codemirror_mode": {
    "name": "ipython",
    "version": 3
   },
   "file_extension": ".py",
   "mimetype": "text/x-python",
   "name": "python",
   "nbconvert_exporter": "python",
   "pygments_lexer": "ipython3",
   "version": "3.7.0"
  }
 },
 "nbformat": 4,
 "nbformat_minor": 2
}
