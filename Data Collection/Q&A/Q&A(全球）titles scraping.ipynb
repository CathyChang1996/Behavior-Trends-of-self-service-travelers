{
 "cells": [
  {
   "cell_type": "code",
   "execution_count": null,
   "metadata": {},
   "outputs": [],
   "source": [
    "url2='https://www.mafengwo.cn/wenda/area-187613.html'\n",
    "import time\n",
    "from selenium import webdriver\n",
    "browser = webdriver.Chrome()\n",
    "\n",
    "browser.get(url2)\n",
    "globe=[]\n",
    "for i in range(50):\n",
    "    time.sleep(2)\n",
    "    try:\n",
    "        all_titles=[]\n",
    "        titles=browser.find_elements_by_css_selector('div.title')\n",
    "        for t in titles:\n",
    "            title=t.text\n",
    "            all_titles.append(title)\n",
    "        globe.extend(all_titles)\n",
    "        browser.execute_script('window.scrollTo(0, document.body.scrollHeight/1.2);')#test several numbers to choose a suitable one\n",
    "        next_page = browser.find_element_by_partial_link_text('加载更多')\n",
    "        next_page.click()\n",
    "    except Exception as e:\n",
    "        print(e)\n",
    "        print('Error on page %s' % i)"
   ]
  },
  {
   "cell_type": "code",
   "execution_count": null,
   "metadata": {},
   "outputs": [],
   "source": [
    "all_titles #这个是所有标题在一起的list"
   ]
  }
 ],
 "metadata": {
  "kernelspec": {
   "display_name": "Python 3",
   "language": "python",
   "name": "python3"
  },
  "language_info": {
   "codemirror_mode": {
    "name": "ipython",
    "version": 3
   },
   "file_extension": ".py",
   "mimetype": "text/x-python",
   "name": "python",
   "nbconvert_exporter": "python",
   "pygments_lexer": "ipython3",
   "version": "3.7.0"
  }
 },
 "nbformat": 4,
 "nbformat_minor": 2
}
