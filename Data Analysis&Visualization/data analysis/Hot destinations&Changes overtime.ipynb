{
 "cells": [
  {
   "cell_type": "code",
   "execution_count": 1,
   "metadata": {},
   "outputs": [],
   "source": [
    "import pandas as pd\n",
    "df1=pd.read_csv('data frame.csv')"
   ]
  },
  {
   "cell_type": "code",
   "execution_count": 2,
   "metadata": {},
   "outputs": [],
   "source": [
    "fill=df1.fillna('[]')"
   ]
  },
  {
   "cell_type": "code",
   "execution_count": 4,
   "metadata": {},
   "outputs": [],
   "source": [
    "transfer1=[]\n",
    "for i in range(0,519):\n",
    "    l1 = eval(fill.iloc[i]['国外旅游目的地'])\n",
    "    transfer1.append(l1)\n",
    "#l1 = eval(df1.iloc[3]['国外旅游目的地'])"
   ]
  },
  {
   "cell_type": "code",
   "execution_count": 5,
   "metadata": {},
   "outputs": [],
   "source": [
    "transfer2=[]\n",
    "for i in range(0,519):\n",
    "    l2 = eval(fill.iloc[i]['国外旅游时间'])\n",
    "    transfer2.append(l2)\n",
    "    \n",
    "transfer3=[]\n",
    "for i in range(0,519):\n",
    "    l3 = eval(fill.iloc[i]['国内旅游目的地'])\n",
    "    transfer3.append(l3)\n",
    "    \n",
    "transfer4=[]\n",
    "for i in range(0,519):\n",
    "    l4 = eval(fill.iloc[i]['国内旅游时间'])\n",
    "    transfer4.append(l4)"
   ]
  },
  {
   "cell_type": "code",
   "execution_count": 6,
   "metadata": {},
   "outputs": [
    {
     "data": {
      "text/plain": [
       "2529"
      ]
     },
     "execution_count": 6,
     "metadata": {},
     "output_type": "execute_result"
    }
   ],
   "source": [
    "#transfer\n",
    "result1 = sum(transfer1, [])\n",
    "result2= sum(transfer2, [])\n",
    "result3= sum(transfer3, [])\n",
    "result4= sum(transfer4, [])\n"
   ]
  },
  {
   "cell_type": "code",
   "execution_count": 7,
   "metadata": {},
   "outputs": [],
   "source": [
    "dicta={}\n",
    "dicta['abroad']=result1\n",
    "dicta['abroad_date']=result2\n",
    "abroaddata=pd.DataFrame(dicta)\n",
    "uu=abroaddata['abroad'].replace('United States of America','U.S.A')\n",
    "\n",
    "dicta2={}\n",
    "dicta2['domestic']=result3\n",
    "dicta2['domestic_date']=result4\n",
    "domesticdata=pd.DataFrame(dicta2)"
   ]
  },
  {
   "cell_type": "code",
   "execution_count": 8,
   "metadata": {},
   "outputs": [],
   "source": [
    "abroaddata['abroad']=uu"
   ]
  },
  {
   "cell_type": "code",
   "execution_count": 9,
   "metadata": {},
   "outputs": [
    {
     "data": {
      "text/html": [
       "<div>\n",
       "<style scoped>\n",
       "    .dataframe tbody tr th:only-of-type {\n",
       "        vertical-align: middle;\n",
       "    }\n",
       "\n",
       "    .dataframe tbody tr th {\n",
       "        vertical-align: top;\n",
       "    }\n",
       "\n",
       "    .dataframe thead th {\n",
       "        text-align: right;\n",
       "    }\n",
       "</style>\n",
       "<table border=\"1\" class=\"dataframe\">\n",
       "  <thead>\n",
       "    <tr style=\"text-align: right;\">\n",
       "      <th></th>\n",
       "      <th>abroad</th>\n",
       "    </tr>\n",
       "  </thead>\n",
       "  <tbody>\n",
       "    <tr>\n",
       "      <th>Thailand</th>\n",
       "      <td>63</td>\n",
       "    </tr>\n",
       "    <tr>\n",
       "      <th>Japan</th>\n",
       "      <td>61</td>\n",
       "    </tr>\n",
       "    <tr>\n",
       "      <th>U.S.A</th>\n",
       "      <td>33</td>\n",
       "    </tr>\n",
       "    <tr>\n",
       "      <th>Malaysia</th>\n",
       "      <td>32</td>\n",
       "    </tr>\n",
       "    <tr>\n",
       "      <th>Indonesia</th>\n",
       "      <td>32</td>\n",
       "    </tr>\n",
       "    <tr>\n",
       "      <th>Korea</th>\n",
       "      <td>31</td>\n",
       "    </tr>\n",
       "    <tr>\n",
       "      <th>Germany</th>\n",
       "      <td>24</td>\n",
       "    </tr>\n",
       "  </tbody>\n",
       "</table>\n",
       "</div>"
      ],
      "text/plain": [
       "           abroad\n",
       "Thailand       63\n",
       "Japan          61\n",
       "U.S.A          33\n",
       "Malaysia       32\n",
       "Indonesia      32\n",
       "Korea          31\n",
       "Germany        24"
      ]
     },
     "execution_count": 9,
     "metadata": {},
     "output_type": "execute_result"
    }
   ],
   "source": [
    "popular_abroadplace=abroaddata['abroad'].value_counts()[:7].sort_values(ascending=False)\n",
    "popular_place_form=pd.DataFrame(popular_abroadplace)\n",
    "#popular_place_form"
   ]
  },
  {
   "cell_type": "code",
   "execution_count": 10,
   "metadata": {},
   "outputs": [
    {
     "data": {
      "text/html": [
       "\n",
       "        <iframe\n",
       "            width=\"800\"\n",
       "            height=\"400\"\n",
       "            src=\"Top_7_Hot_Outbound_Destinations.html\"\n",
       "            frameborder=\"0\"\n",
       "            allowfullscreen\n",
       "        ></iframe>\n",
       "        "
      ],
      "text/plain": [
       "<IPython.lib.display.IFrame at 0x10266b278>"
      ]
     },
     "execution_count": 10,
     "metadata": {},
     "output_type": "execute_result"
    }
   ],
   "source": [
    "from pyecharts import Bar\n",
    "attr = popular_place_form.index\n",
    "v1 = popular_place_form.abroad\n",
    "bar = Bar(\"Top 7 Hot Abroad Destinations\")\n",
    "bar.add(\"times\", attr, v1, mark_point=['max'], is_label_show=True)\n",
    "bar.render('Top_7_Hot_Outbound_Destinations.html')\n",
    "from IPython.display import IFrame\n",
    "IFrame('Top_7_Hot_Outbound_Destinations.html', width=800, height=400)"
   ]
  },
  {
   "cell_type": "code",
   "execution_count": 11,
   "metadata": {},
   "outputs": [],
   "source": [
    "popular_doplace=domesticdata['domestic'].value_counts()[:10].sort_values(ascending=False)\n",
    "popular_do=pd.DataFrame(popular_doplace)\n",
    "#popular_do\n",
    "#popular_do.to_csv('domestic_rank.csv')"
   ]
  },
  {
   "cell_type": "code",
   "execution_count": 12,
   "metadata": {},
   "outputs": [
    {
     "data": {
      "text/html": [
       "\n",
       "        <iframe\n",
       "            width=\"800\"\n",
       "            height=\"400\"\n",
       "            src=\"Top_10_Hot_Domestic_Destinations.html\"\n",
       "            frameborder=\"0\"\n",
       "            allowfullscreen\n",
       "        ></iframe>\n",
       "        "
      ],
      "text/plain": [
       "<IPython.lib.display.IFrame at 0x10b2bbbe0>"
      ]
     },
     "execution_count": 12,
     "metadata": {},
     "output_type": "execute_result"
    }
   ],
   "source": [
    "from pyecharts import Bar\n",
    "attr = popular_do.index\n",
    "v1 = popular_do.domestic\n",
    "bar = Bar(\"Top 10 Hot Domestic Destinations\")\n",
    "bar.add(\"times\", attr, v1, is_label_show=True)\n",
    "bar.render('Top_10_Hot_Domestic_Destinations.html')\n",
    "from IPython.display import IFrame\n",
    "IFrame('Top_10_Hot_Domestic_Destinations.html', width=800, height=400)"
   ]
  },
  {
   "cell_type": "code",
   "execution_count": 13,
   "metadata": {},
   "outputs": [],
   "source": [
    "import datetime\n",
    "from dateutil.parser import parse"
   ]
  },
  {
   "cell_type": "code",
   "execution_count": 14,
   "metadata": {},
   "outputs": [],
   "source": [
    "datelist=list(abroaddata['abroad_date'])\n",
    "parsedate=[]\n",
    "for d in datelist:\n",
    "    formatdate='{}-{}'.format(d[:4],d[-2:])\n",
    "    parsedate.append(formatdate)"
   ]
  },
  {
   "cell_type": "code",
   "execution_count": 15,
   "metadata": {},
   "outputs": [],
   "source": [
    "abroaddata['abroad_date']=parsedate"
   ]
  },
  {
   "cell_type": "code",
   "execution_count": 16,
   "metadata": {},
   "outputs": [],
   "source": [
    "abroaddata['datetime']=abroaddata['abroad_date'].apply(parse)"
   ]
  },
  {
   "cell_type": "code",
   "execution_count": 29,
   "metadata": {},
   "outputs": [],
   "source": [
    "describe_date=abroaddata.set_index('datetime').resample('1y')['abroad'].describe()"
   ]
  },
  {
   "cell_type": "code",
   "execution_count": 30,
   "metadata": {},
   "outputs": [],
   "source": [
    "city_change=abroaddata.set_index('datetime').resample('1y')['abroad']"
   ]
  },
  {
   "cell_type": "code",
   "execution_count": 31,
   "metadata": {},
   "outputs": [],
   "source": [
    "df_list=pd.DataFrame(city_change.agg(sum)).tail(50)"
   ]
  },
  {
   "cell_type": "code",
   "execution_count": 32,
   "metadata": {
    "scrolled": false
   },
   "outputs": [],
   "source": [
    "t=abroaddata[abroaddata['abroad_date'].str.contains('2018')]\n",
    "tttt=pd.DataFrame(t['abroad'].value_counts())\n",
    "#tttt.to_csv('2018ab.csv')\n",
    "#tttt\n",
    "abroad_count=describe_date.tail(15)"
   ]
  },
  {
   "cell_type": "code",
   "execution_count": 43,
   "metadata": {},
   "outputs": [],
   "source": [
    "describea=describe_date.tail(8)"
   ]
  },
  {
   "cell_type": "code",
   "execution_count": 44,
   "metadata": {},
   "outputs": [],
   "source": [
    "datel=list(domesticdata['domestic_date'])\n",
    "parsed=[]\n",
    "for d in datel:\n",
    "    formadate='{}-{}'.format(d[:4],d[-2:])\n",
    "    parsed.append(formadate)\n",
    "    \n",
    "domesticdata['domestic_date']=parsed\n",
    "    \n",
    "domesticdata['datetime']=domesticdata['domestic_date'].apply(parse)\n",
    "describe_datetime=domesticdata.set_index('datetime').resample('6m')['domestic'].describe()"
   ]
  },
  {
   "cell_type": "code",
   "execution_count": 45,
   "metadata": {},
   "outputs": [
    {
     "data": {
      "text/html": [
       "<div>\n",
       "<style scoped>\n",
       "    .dataframe tbody tr th:only-of-type {\n",
       "        vertical-align: middle;\n",
       "    }\n",
       "\n",
       "    .dataframe tbody tr th {\n",
       "        vertical-align: top;\n",
       "    }\n",
       "\n",
       "    .dataframe thead th {\n",
       "        text-align: right;\n",
       "    }\n",
       "</style>\n",
       "<table border=\"1\" class=\"dataframe\">\n",
       "  <thead>\n",
       "    <tr style=\"text-align: right;\">\n",
       "      <th></th>\n",
       "      <th>count</th>\n",
       "      <th>freq</th>\n",
       "      <th>top</th>\n",
       "      <th>unique</th>\n",
       "    </tr>\n",
       "    <tr>\n",
       "      <th>datetime</th>\n",
       "      <th></th>\n",
       "      <th></th>\n",
       "      <th></th>\n",
       "      <th></th>\n",
       "    </tr>\n",
       "  </thead>\n",
       "  <tbody>\n",
       "    <tr>\n",
       "      <th>2011-12-31</th>\n",
       "      <td>9</td>\n",
       "      <td>1</td>\n",
       "      <td>Nepal</td>\n",
       "      <td>9</td>\n",
       "    </tr>\n",
       "    <tr>\n",
       "      <th>2012-12-31</th>\n",
       "      <td>11</td>\n",
       "      <td>4</td>\n",
       "      <td>Thailand</td>\n",
       "      <td>8</td>\n",
       "    </tr>\n",
       "    <tr>\n",
       "      <th>2013-12-31</th>\n",
       "      <td>57</td>\n",
       "      <td>6</td>\n",
       "      <td>Malaysia</td>\n",
       "      <td>34</td>\n",
       "    </tr>\n",
       "    <tr>\n",
       "      <th>2014-12-31</th>\n",
       "      <td>88</td>\n",
       "      <td>13</td>\n",
       "      <td>Thailand</td>\n",
       "      <td>37</td>\n",
       "    </tr>\n",
       "    <tr>\n",
       "      <th>2015-12-31</th>\n",
       "      <td>100</td>\n",
       "      <td>15</td>\n",
       "      <td>Japan</td>\n",
       "      <td>39</td>\n",
       "    </tr>\n",
       "    <tr>\n",
       "      <th>2016-12-31</th>\n",
       "      <td>109</td>\n",
       "      <td>11</td>\n",
       "      <td>Thailand</td>\n",
       "      <td>43</td>\n",
       "    </tr>\n",
       "    <tr>\n",
       "      <th>2017-12-31</th>\n",
       "      <td>183</td>\n",
       "      <td>12</td>\n",
       "      <td>Thailand</td>\n",
       "      <td>62</td>\n",
       "    </tr>\n",
       "    <tr>\n",
       "      <th>2018-12-31</th>\n",
       "      <td>262</td>\n",
       "      <td>16</td>\n",
       "      <td>Japan</td>\n",
       "      <td>86</td>\n",
       "    </tr>\n",
       "  </tbody>\n",
       "</table>\n",
       "</div>"
      ],
      "text/plain": [
       "           count freq       top unique\n",
       "datetime                              \n",
       "2011-12-31     9    1     Nepal      9\n",
       "2012-12-31    11    4  Thailand      8\n",
       "2013-12-31    57    6  Malaysia     34\n",
       "2014-12-31    88   13  Thailand     37\n",
       "2015-12-31   100   15     Japan     39\n",
       "2016-12-31   109   11  Thailand     43\n",
       "2017-12-31   183   12  Thailand     62\n",
       "2018-12-31   262   16     Japan     86"
      ]
     },
     "execution_count": 45,
     "metadata": {},
     "output_type": "execute_result"
    }
   ],
   "source": [
    "described=describe_datetime.tail(17)\n",
    "#describea"
   ]
  },
  {
   "cell_type": "code",
   "execution_count": 49,
   "metadata": {},
   "outputs": [
    {
     "name": "stdout",
     "output_type": "stream",
     "text": [
      "https://plot.ly/~CathyChang1996/4\n"
     ]
    }
   ],
   "source": [
    "import plotly\n",
    "import plotly.plotly as py\n",
    "import plotly.graph_objs as go\n",
    "plotly.tools.set_credentials_file(username='CathyChang1996', api_key='sqkxcq5kbyNhb6WMT7H1')\n",
    "\n",
    "trace_high = go.Scatter(\n",
    "    x=describea.index,\n",
    "    y=describea['unique'],\n",
    "    name = \"variety\",\n",
    "    line = dict(color = '#17BECF'),\n",
    "    opacity = 0.8)\n",
    "\n",
    "trace_low = go.Scatter(\n",
    "    x=describea.index,\n",
    "    y=describea['count'],\n",
    "    name = \"total footprint quantity\",\n",
    "    line = dict(color = '#7F7F7F'),\n",
    "    opacity = 0.8)\n",
    "\n",
    "data = [trace_high,trace_low]\n",
    "\n",
    "\n",
    "#fig = dict(data=data, layout=layout)\n",
    "py.iplot(data, filename = 'Variety and total quantity of footprint abroad')\n",
    "first_plot_url = py.plot(data, filename='Variety and total quantity of footprint abroad', auto_open=False,)\n",
    "print (first_plot_url)"
   ]
  },
  {
   "cell_type": "code",
   "execution_count": 26,
   "metadata": {},
   "outputs": [
    {
     "name": "stdout",
     "output_type": "stream",
     "text": [
      "https://plot.ly/~CathyChang1996/6\n"
     ]
    }
   ],
   "source": [
    "import plotly\n",
    "import plotly.plotly as py\n",
    "import plotly.graph_objs as go\n",
    "plotly.tools.set_credentials_file(username='CathyChang1996', api_key='sqkxcq5kbyNhb6WMT7H1')\n",
    "\n",
    "trace_high = go.Scatter(\n",
    "    x=described.index,\n",
    "    y=described['unique'],\n",
    "    name = \"variety\",\n",
    "    line = dict(color = '#17BECF'),\n",
    "    opacity = 0.8)\n",
    "\n",
    "trace_low = go.Scatter(\n",
    "    x=described.index,\n",
    "    y=described['count'],\n",
    "    name = \"total footprint quantity\",\n",
    "    line = dict(color = '#7F7F7F'),\n",
    "    opacity = 0.8)\n",
    "\n",
    "data = [trace_high,trace_low]\n",
    "\n",
    "\n",
    "#fig = dict(data=data, layout=layout)\n",
    "py.iplot(data, filename = 'Variety and total quantity of domestic footprint')\n",
    "first_plot_url = py.plot(data, filename='Variety and total quantity of domestic footprint', auto_open=False,)\n",
    "print (first_plot_url)"
   ]
  }
 ],
 "metadata": {
  "kernelspec": {
   "display_name": "Python 3",
   "language": "python",
   "name": "python3"
  },
  "language_info": {
   "codemirror_mode": {
    "name": "ipython",
    "version": 3
   },
   "file_extension": ".py",
   "mimetype": "text/x-python",
   "name": "python",
   "nbconvert_exporter": "python",
   "pygments_lexer": "ipython3",
   "version": "3.7.0"
  }
 },
 "nbformat": 4,
 "nbformat_minor": 2
}
