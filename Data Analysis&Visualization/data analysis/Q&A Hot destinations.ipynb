{
 "cells": [
  {
   "cell_type": "code",
   "execution_count": null,
   "metadata": {},
   "outputs": [],
   "source": [
    "import pandas as pd\n",
    "df1=pd.read_csv('800.csv')\n",
    "df2=pd.read_csv('1-10.csv')\n",
    "df3=pd.read_csv('11-50.csv')\n",
    "df4=pd.read_csv('50-100.csv')\n",
    "df5=pd.read_csv('100-200.csv')\n",
    "df6=pd.read_csv('200-300.csv')\n",
    "df7=pd.read_csv('300-400.csv')\n",
    "df8=pd.read_csv('400-500.csv')\n",
    "df9=pd.read_csv('500-800.csv')\n",
    "df10=pd.read_csv('morethan1000.csv')\n",
    "df11=pd.read_csv('lvshijiang.csv')\n",
    "df12=pd.read_csv('most.csv')"
   ]
  },
  {
   "cell_type": "code",
   "execution_count": null,
   "metadata": {},
   "outputs": [],
   "source": [
    "frame=[df1,df2,df3,df4,df5,df6,df7,df8,df9,df10,df11,df12]\n",
    "final=pd.concat(frame)\n",
    "final.to_csv('问答目的地与时间合集.csv')"
   ]
  },
  {
   "cell_type": "code",
   "execution_count": null,
   "metadata": {},
   "outputs": [],
   "source": [
    "popular_place=final['location'].value_counts()[:20].sort_values(ascending=False)\n",
    "popular_place_form=pd.DataFrame(popular_place)"
   ]
  },
  {
   "cell_type": "code",
   "execution_count": null,
   "metadata": {},
   "outputs": [],
   "source": [
    "from pyecharts import Bar\n",
    "attr = popular_place_form.index\n",
    "v1 = popular_place_form.location\n",
    "bar = Bar(\"Top 20 Hot Discussed Regions\")\n",
    "bar.add(\"mentioned times\", attr, v1, mark_line=[\"average\"], is_label_show=True)\n",
    "bar"
   ]
  },
  {
   "cell_type": "code",
   "execution_count": null,
   "metadata": {},
   "outputs": [],
   "source": [
    "import datetime\n",
    "from dateutil.parser import parse"
   ]
  },
  {
   "cell_type": "code",
   "execution_count": null,
   "metadata": {},
   "outputs": [],
   "source": [
    "final['datetime']=final['dates'].apply(parse)\n"
   ]
  },
  {
   "cell_type": "code",
   "execution_count": null,
   "metadata": {},
   "outputs": [],
   "source": [
    "describe_date=final.set_index('datetime').resample('6m')['location'].describe()\n",
    "\n"
   ]
  },
  {
   "cell_type": "code",
   "execution_count": null,
   "metadata": {},
   "outputs": [],
   "source": [
    "ff=describe_date.tail(11)\n"
   ]
  }
 ],
 "metadata": {
  "kernelspec": {
   "display_name": "Python 3",
   "language": "python",
   "name": "python3"
  },
  "language_info": {
   "codemirror_mode": {
    "name": "ipython",
    "version": 3
   },
   "file_extension": ".py",
   "mimetype": "text/x-python",
   "name": "python",
   "nbconvert_exporter": "python",
   "pygments_lexer": "ipython3",
   "version": "3.7.0"
  }
 },
 "nbformat": 4,
 "nbformat_minor": 2
}
