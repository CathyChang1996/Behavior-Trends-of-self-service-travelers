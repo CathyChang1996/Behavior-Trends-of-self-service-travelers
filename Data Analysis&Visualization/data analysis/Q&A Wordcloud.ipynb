{
 "cells": [
  {
   "cell_type": "code",
   "execution_count": 7,
   "metadata": {},
   "outputs": [],
   "source": [
    "import jieba\n",
    "import pandas as pd\n",
    "from matplotlib import pyplot as plt\n",
    "import seaborn as sns\n",
    "import numpy as np\n",
    "from wordcloud import WordCloud\n",
    "import xlrd\n",
    "import csv\n",
    "from os import sys"
   ]
  },
  {
   "cell_type": "code",
   "execution_count": 8,
   "metadata": {},
   "outputs": [],
   "source": [
    "#import pandas as pd\n",
    "#data_xls = pd.read_excel('/Users/Rita/Desktop/wordCount5.xlsx', index_col = 0)\n",
    "#data_xls.to_csv('test.csv', encoding = 'UTF-8')"
   ]
  },
  {
   "cell_type": "code",
   "execution_count": 32,
   "metadata": {
    "scrolled": false
   },
   "outputs": [],
   "source": [
    "df = pd.read_csv('test.csv', names = [\"words\", \"count\"])\n",
    "df1=df.dropna()\n",
    "clean=df1.drop(index=[10,12,13,17,18,37,56,57,59,65,69,75,76,77,79,81,82,83,87,89,86,93,94,100,102,107,110])\n",
    "#df1[df1['words'].str.contains('徒步')]\n",
    "            "
   ]
  },
  {
   "cell_type": "code",
   "execution_count": null,
   "metadata": {},
   "outputs": [],
   "source": []
  },
  {
   "cell_type": "code",
   "execution_count": 53,
   "metadata": {
    "scrolled": true
   },
   "outputs": [],
   "source": [
    "from pyecharts import WordCloud\n",
    "keyword = clean['words'][:70]\n",
    "value = clean['count'][:70]\n",
    "wordcloud = WordCloud(width=1300, height=620)\n",
    "wordcloud.add('wordcount', keyword,value, shape='diamond', word_size_range=[30, 100])\n",
    "wordcloud.render(\"Q&A content wordcloud.html\")"
   ]
  },
  {
   "cell_type": "code",
   "execution_count": 54,
   "metadata": {},
   "outputs": [
    {
     "data": {
      "text/html": [
       "\n",
       "        <iframe\n",
       "            width=\"1000\"\n",
       "            height=\"700\"\n",
       "            src=\"Q&A content wordcloud.html\"\n",
       "            frameborder=\"0\"\n",
       "            allowfullscreen\n",
       "        ></iframe>\n",
       "        "
      ],
      "text/plain": [
       "<IPython.lib.display.IFrame at 0x110834ba8>"
      ]
     },
     "execution_count": 54,
     "metadata": {},
     "output_type": "execute_result"
    }
   ],
   "source": [
    "from IPython.display import IFrame\n",
    "IFrame('Q&A content wordcloud.html', width=1000, height=700)"
   ]
  },
  {
   "cell_type": "code",
   "execution_count": null,
   "metadata": {},
   "outputs": [],
   "source": []
  }
 ],
 "metadata": {
  "kernelspec": {
   "display_name": "Python 3",
   "language": "python",
   "name": "python3"
  },
  "language_info": {
   "codemirror_mode": {
    "name": "ipython",
    "version": 3
   },
   "file_extension": ".py",
   "mimetype": "text/x-python",
   "name": "python",
   "nbconvert_exporter": "python",
   "pygments_lexer": "ipython3",
   "version": "3.7.0"
  }
 },
 "nbformat": 4,
 "nbformat_minor": 2
}
