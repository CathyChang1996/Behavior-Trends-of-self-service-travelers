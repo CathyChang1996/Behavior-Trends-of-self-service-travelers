{
 "cells": [
  {
   "cell_type": "code",
   "execution_count": null,
   "metadata": {},
   "outputs": [],
   "source": [
    "import pandas as pd\n",
    "import re\n",
    "import jieba"
   ]
  },
  {
   "cell_type": "code",
   "execution_count": null,
   "metadata": {
    "scrolled": true
   },
   "outputs": [],
   "source": [
    "df = pd.read_csv('new_final.csv', error_bad_lines=False)"
   ]
  },
  {
   "cell_type": "code",
   "execution_count": null,
   "metadata": {},
   "outputs": [],
   "source": [
    "def proportion_of_city(city):\n",
    "    fill=df.fillna('[]')\n",
    "    fill_plus = fill[fill['domestic_place'].str.contains(city)]\n",
    "    place = fill_plus['location'].value_counts(ascending=False)\n",
    "    \n",
    "    return place"
   ]
  },
  {
   "cell_type": "code",
   "execution_count": null,
   "metadata": {},
   "outputs": [],
   "source": [
    "def proportion_of_overseas(overseas):\n",
    "    fill=df.fillna('[]')\n",
    "    fill_plus = fill[fill['overseas_place'].str.contains(overseas)]\n",
    "    place = fill_plus['location'].value_counts(ascending=False)\n",
    "    \n",
    "    return place"
   ]
  },
  {
   "cell_type": "code",
   "execution_count": null,
   "metadata": {},
   "outputs": [],
   "source": [
    "proportion_of_overseas(\"Thailand\")"
   ]
  },
  {
   "cell_type": "code",
   "execution_count": null,
   "metadata": {},
   "outputs": [],
   "source": [
    "proportion_of_overseas(\"Japan\")"
   ]
  },
  {
   "cell_type": "code",
   "execution_count": null,
   "metadata": {},
   "outputs": [],
   "source": [
    "proportion_of_city(\"北京\")"
   ]
  },
  {
   "cell_type": "code",
   "execution_count": null,
   "metadata": {},
   "outputs": [],
   "source": [
    "proportion_of_city(\"香港\")"
   ]
  },
  {
   "cell_type": "code",
   "execution_count": null,
   "metadata": {},
   "outputs": [],
   "source": [
    "proportion_of_city(\"上海\")"
   ]
  },
  {
   "cell_type": "code",
   "execution_count": null,
   "metadata": {},
   "outputs": [],
   "source": [
    "proportion_of_city(\"成都\")"
   ]
  },
  {
   "cell_type": "code",
   "execution_count": null,
   "metadata": {},
   "outputs": [],
   "source": [
    "proportion_of_city(\"厦门\")"
   ]
  },
  {
   "cell_type": "code",
   "execution_count": null,
   "metadata": {
    "scrolled": true
   },
   "outputs": [],
   "source": [
    "from pyecharts import Pie"
   ]
  },
  {
   "cell_type": "code",
   "execution_count": null,
   "metadata": {
    "scrolled": false
   },
   "outputs": [],
   "source": [
    "pie =Pie('Proportion of Travellers Per City (In China)', title_pos='center')\n",
    "pie.add(\"北京\", [\"北京\", \"深圳\",\"上海\",\"西安\",\"天津\",\"其他\"], [38,6,6,5,3,42], center=[10, 28], radius=[28, 32], label_pos='center', is_label_show=True, label_text_color=None)\n",
    "pie.add(\"香港\", [\"北京\", \"上海\",\"深圳\",\"广州\",\"杭州\",\"其他\"], [28,13,9,7,4,39], center=[30, 28], radius=[28, 32], label_pos='center', is_label_show=True, label_text_color=None, legend_pos='left')\n",
    "pie.add(\"上海\", [\"北京\", \"上海\",\"深圳\",\"西安\",\"香港\",\"其他\"], [22,19,6,6,4,43], center=[50, 28], radius=[28, 32], label_pos='center', is_label_show=True, label_text_color=None)\n",
    "pie.add(\"成都\", [\"北京\", \"上海\",\"深圳\",\"广州\",\"西安\",\"其他\"], [28,9,8,6,6,43], center=[70, 28], radius=[28, 32], label_pos='center', is_label_show=True, label_text_color=None)\n",
    "pie.add(\"厦门\", [\"北京\", \"深圳\",\"上海\",\"西安\",\"香港\",\"其他\"], [23,11,9,4,4,49], center=[90, 28], radius=[28, 32], label_pos='center', is_label_show=True, label_text_color=None)\n",
    "pie.add(\"台北\", [\"北京\", \"上海\",\"广州\",\"深圳\",\"香港\",\"其他\"], [24,20,10,6,4,36], center=[10, 73], radius=[28, 32], label_pos='center', is_label_show=True, label_text_color=None)\n",
    "pie.add(\"西安\", [\"北京\", \"西安\",\"上海\",\"成都\",\"深圳\",\"其他\"], [32,13,11,6,6,32], center=[30, 73], radius=[28, 32], label_pos='center', is_label_show=True, label_text_color=None)\n",
    "pie.add(\"丽江\", [\"北京\", \"深圳\",\"成都\",\"西安\",\"杭州\",\"其他\"], [30,9,6,6,4,45], center=[50, 73], radius=[28, 32], label_pos='center', is_label_show=True, label_text_color=None)\n",
    "pie.add(\"杭州\", [\"北京\", \"上海\",\"天津\",\"纽约\",\"香港\",\"其他\"], [27,11,9,7,5,41], center=[70, 73], radius=[28, 32], label_pos='center', is_label_show=True, label_text_color=None)\n",
    "pie.add(\"三亚\", [\"北京\", \"上海\",\"温州\",\"广州\",\"重庆\",\"其他\"], [30,16,7,7,2,38], center=[90, 73], radius=[28, 32], label_pos='center', is_label_show=True, label_text_color=None, is_legend_show=True, legend_top=\"center\")"
   ]
  },
  {
   "cell_type": "code",
   "execution_count": null,
   "metadata": {},
   "outputs": [],
   "source": [
    "pie =Pie('Proportion of Travellers Per City (Overseas)', title_pos='center')\n",
    "pie.add(\"泰国\", [\"北京\", \"上海\",\"成都\",\"广州\",\"杭州\",\"其他\"], [14,13,10,6,6,51], center=[10, 28], radius=[28, 32], label_pos='center', is_label_show=True, label_text_color=None)\n",
    "pie.add(\"日本\", [\"北京\", \"上海\",\"广州\",\"杭州\",\"天津\",\"其他\"], [30,10,5,5,3,47], center=[30, 28], radius=[28, 32], label_pos='center', is_label_show=True, label_text_color=None, legend_pos='left')\n",
    "pie.add(\"美国\", [\"北京\", \"上海\",\"杭州\",\"深圳\",\"其他\"], [39,15,6,3,37], center=[50, 28], radius=[28, 32], label_pos='center', is_label_show=True, label_text_color=None)\n",
    "pie.add(\"马来西亚\", [\"北京\", \"成都\",\"上海\",\"深圳\",\"其他\"], [13,13,9,6,59], center=[70, 28], radius=[28, 32], label_pos='center', is_label_show=True, label_text_color=None)\n",
    "pie.add(\"印度尼西亚\", [\"北京\", \"满洲里\",\"广州\",\"上海\",\"杭州\",\"其他\"], [31,6,6,6,6,45], center=[90, 28], radius=[28, 32], label_pos='center', is_label_show=True, label_text_color=None, is_legend_show=True, legend_top=\"center\")"
   ]
  },
  {
   "cell_type": "code",
   "execution_count": null,
   "metadata": {},
   "outputs": [],
   "source": [
    "from pyecharts import GeoLines,Style"
   ]
  },
  {
   "cell_type": "code",
   "execution_count": null,
   "metadata": {},
   "outputs": [],
   "source": [
    "style = Style(\n",
    "    title_top = \"#fff\",\n",
    "    title_pos = \"left\",\n",
    "    width = 1000,\n",
    "    height = 800,\n",
    "    background_color = \"#404a59\"\n",
    " \n",
    "   )\n"
   ]
  },
  {
   "cell_type": "code",
   "execution_count": null,
   "metadata": {},
   "outputs": [],
   "source": [
    "data = [[\"北京\",\"北京\"],\n",
    "[\"深圳\",\"北京\"],\n",
    "[\"上海\",\"北京\"],\n",
    "[\"西安\",\"北京\"],\n",
    "[\"天津\",\"北京\"],\n",
    "[\"重庆\",\"北京\"],\n",
    "[\"香港\",\"北京\"],\n",
    "[\"乌鲁木齐\",\"北京\"],\n",
    "[\"南京\",\"北京\"],\n",
    "[\"成都\",\"北京\"],\n",
    "[\"武汉\",\"北京\"],\n",
    "[\"湖州\",\"北京\"],\n",
    "[\"秦皇岛\",\"北京\"],\n",
    "[\"南宁\",\"北京\"],\n",
    "[\"抚顺\",\"北京\"],\n",
    "[\"大同\",\"北京\"],\n",
    "[\"焦作\",\"北京\"],\n",
    "[\"柳州\",\"北京\"],\n",
    "[\"乐山\",\"北京\"],\n",
    "[\"太原\",\"北京\"],\n",
    "[\"沈阳\",\"北京\"],\n",
    "[\"温州\",\"北京\"],\n",
    "[\"贵阳\",\"北京\"],\n",
    "[\"苏州\",\"北京\"],\n",
    "[\"广州\",\"北京\"],\n",
    "[\"无锡\",\"北京\"],\n",
    "\n",
    "[\"北京\",\"香港\"],\n",
    "[\"上海\",\"香港\"],\n",
    "[\"深圳\",\"香港\"],\n",
    "[\"广州\",\"香港\"],\n",
    "[\"杭州\",\"香港\"],\n",
    "[\"香港\",\"香港\"],\n",
    "[\"成都\",\"香港\"],\n",
    "[\"西安\",\"香港\"],\n",
    "[\"沈阳\",\"香港\"],\n",
    "[\"武汉\",\"香港\"],\n",
    "[\"天津\",\"香港\"],\n",
    "[\"日喀则\",\"香港\"],\n",
    "[\"苏州\",\"香港\"],\n",
    "[\"昆明\",\"香港\"],\n",
    "[\"郑州\",\"香港\"],\n",
    "[\"乐山\",\"香港\"],\n",
    "[\"南京\",\"香港\"],\n",
    "[\"重庆\",\"香港\"],\n",
    "[\"厦门\",\"香港\"],\n",
    "        \n",
    "[\"北京\",\"上海\"],\n",
    "[\"上海\",\"上海\"],\n",
    "[\"西安\",\"上海\"],\n",
    "[\"深圳\",\"上海\"],\n",
    "[\"天津\",\"上海\"],\n",
    "[\"香港\",\"上海\"],\n",
    "[\"成都\",\"上海\"],\n",
    "[\"武汉\",\"上海\"],\n",
    "[\"杭州\",\"上海\"],\n",
    "[\"蚌埠\",\"上海\"],\n",
    "[\"抚顺\",\"上海\"],\n",
    "[\"台北\",\"上海\"],\n",
    "[\"南昌\",\"上海\"],\n",
    "[\"沈阳\",\"上海\"],\n",
    "[\"大连\",\"上海\"],\n",
    "[\"苏州\",\"上海\"],\n",
    "[\"广州\",\"上海\"],\n",
    "[\"焦作\",\"上海\"],\n",
    "[\"宁波\",\"上海\"],\n",
    "[\"南京\",\"上海\"],\n",
    "[\"无锡\",\"上海\"],\n",
    "        \n",
    "[\"北京\",\"成都\"],\n",
    "[\"上海\",\"成都\"],\n",
    "[\"成都\",\"成都\"],\n",
    "[\"深圳\",\"成都\"],\n",
    "[\"广州\",\"成都\"],\n",
    "[\"西安\",\"成都\"],\n",
    "[\"南昌\",\"成都\"],\n",
    "[\"沈阳\",\"成都\"],\n",
    "[\"温州\",\"成都\"],\n",
    "[\"青岛\",\"成都\"],\n",
    "[\"武汉\",\"成都\"],\n",
    "[\"南宁\",\"成都\"],\n",
    "[\"南京\",\"成都\"],\n",
    "[\"蚌埠\",\"成都\"],\n",
    "[\"台北\",\"成都\"],\n",
    "[\"乐山\",\"成都\"],\n",
    "[\"杭州\",\"成都\"],\n",
    "[\"重庆\",\"成都\"],\n",
    "        \n",
    "[\"北京\",\"厦门\"],\n",
    "[\"深圳\",\"厦门\"],\n",
    "[\"上海\",\"厦门\"],\n",
    "[\"成都\",\"厦门\"],\n",
    "[\"杭州\",\"厦门\"],\n",
    "[\"广州\",\"厦门\"],\n",
    "[\"香港\",\"厦门\"],\n",
    "[\"西安\",\"厦门\"],\n",
    "[\"沈阳\",\"厦门\"],\n",
    "[\"厦门\",\"厦门\"],\n",
    "[\"南昌\",\"厦门\"],\n",
    "[\"无锡\",\"厦门\"],\n",
    "[\"蚌埠\",\"厦门\"],\n",
    "[\"温州\",\"厦门\"],\n",
    "[\"青岛\",\"厦门\"],\n",
    "[\"金华\",\"厦门\"],\n",
    "[\"武汉\",\"厦门\"],\n",
    "[\"天津\",\"厦门\"],\n",
    "[\"南京\",\"厦门\"],\n",
    "[\"重庆\",\"厦门\"],\n",
    "[\"福州\",\"厦门\"],\n",
    "        \n",
    "[\"北京\",\"台北\"],\n",
    "[\"上海\",\"台北\"],\n",
    "[\"广州\",\"台北\"],\n",
    "[\"深圳\",\"台北\"],\n",
    "[\"重庆\",\"台北\"],\n",
    "[\"武汉\",\"台北\"],\n",
    "[\"苏州\",\"台北\"],\n",
    "[\"香港\",\"台北\"],\n",
    "[\"南京\",\"台北\"],\n",
    "[\"杭州\",\"台北\"],\n",
    "[\"天津\",\"台北\"],\n",
    "[\"成都\",\"台北\"],\n",
    "[\"西安\",\"台北\"],\n",
    "[\"沈阳\",\"台北\"],\n",
    "[\"台北\",\"台北\"],\n",
    "[\"温州\",\"台北\"],\n",
    "        \n",
    "[\"北京\",\"西安\"],\n",
    "[\"西安\",\"西安\"],\n",
    "[\"上海\",\"西安\"],\n",
    "[\"成都\",\"西安\"],\n",
    "[\"深圳\",\"西安\"],\n",
    "[\"广州\",\"西安\"],\n",
    "[\"天津\",\"西安\"],\n",
    "[\"沈阳\",\"西安\"],\n",
    "[\"南宁\",\"西安\"],\n",
    "[\"南京\",\"西安\"],\n",
    "[\"温州\",\"西安\"],\n",
    "[\"大同\",\"西安\"],\n",
    "[\"焦作\",\"西安\"],\n",
    "[\"青岛\",\"西安\"],\n",
    "[\"敦煌\",\"西安\"],\n",
    "        \n",
    "[\"北京\",\"丽江市\"],\n",
    "[\"深圳\",\"丽江市\"],\n",
    "[\"成都\",\"丽江市\"],\n",
    "[\"西安\",\"丽江市\"],\n",
    "[\"杭州\",\"丽江市\"],\n",
    "[\"上海\",\"丽江市\"],\n",
    "[\"香港\",\"丽江市\"],\n",
    "[\"重庆\",\"丽江市\"],\n",
    "[\"乐山\",\"丽江市\"],\n",
    "[\"永州\",\"丽江市\"],\n",
    "[\"柳州\",\"丽江市\"],\n",
    "[\"崇州\",\"丽江市\"],\n",
    "[\"广州\",\"丽江市\"],\n",
    "[\"焦作\",\"丽江市\"],\n",
    "[\"台北\",\"丽江市\"],\n",
    "[\"南京\",\"丽江市\"],\n",
    "[\"温州\",\"丽江市\"],\n",
    "        \n",
    "[\"北京\",\"重庆\"],\n",
    "[\"上海\",\"重庆\"],\n",
    "[\"广州\",\"重庆\"],\n",
    "[\"成都\",\"重庆\"],\n",
    "[\"西安\",\"重庆\"],\n",
    "[\"重庆\",\"重庆\"],\n",
    "[\"深圳\",\"重庆\"],\n",
    "[\"蚌埠\",\"重庆\"],\n",
    "[\"杭州\",\"重庆\"],\n",
    "[\"南宁\",\"重庆\"],\n",
    "[\"南昌\",\"重庆\"],\n",
    "[\"武汉\",\"重庆\"],\n",
    "[\"贵阳\",\"重庆\"],\n",
    "[\"青岛\",\"重庆\"],\n",
    "[\"天津\",\"重庆\"],\n",
    "[\"崇州\",\"重庆\"],\n",
    "[\"抚顺\",\"重庆\"],\n",
    "        \n",
    "[\"北京\",\"杭州\"],\n",
    "[\"上海\",\"杭州\"],\n",
    "[\"天津\",\"杭州\"],\n",
    "[\"香港\",\"杭州\"],\n",
    "[\"大连\",\"杭州\"],\n",
    "[\"抚顺\",\"杭州\"],\n",
    "[\"厦门\",\"杭州\"],\n",
    "[\"郑州\",\"杭州\"],\n",
    "[\"深圳\",\"杭州\"],\n",
    "[\"无锡\",\"杭州\"],\n",
    "[\"蚌埠\",\"杭州\"],\n",
    "[\"温州\",\"杭州\"],\n",
    "[\"南京\",\"杭州\"],\n",
    "[\"湖州\",\"杭州\"],\n",
    "[\"大同\",\"杭州\"],\n",
    "[\"广州\",\"杭州\"],\n",
    "[\"焦作\",\"杭州\"],\n",
    "[\"宁波\",\"杭州\"]\n",
    "                  \n",
    "                    ]"
   ]
  },
  {
   "cell_type": "code",
   "execution_count": null,
   "metadata": {},
   "outputs": [],
   "source": [
    "style_geo = style.add(\n",
    "                is_label_show=True,\n",
    "                line_curve=0.2,\n",
    "                line_opacity=0.5,\n",
    "                legend_text_color=\"#eee\",\n",
    "                legend_pos=\"right\",\n",
    "                label_color=['#ffa022', '#ffa022', '#46bee9'],\n",
    "                label_pos=\"right\",\n",
    "                label_formatter=\"{b}\",\n",
    "                label_text_color=\"#eee\",\n",
    ")\n",
    "\n"
   ]
  },
  {
   "cell_type": "code",
   "execution_count": null,
   "metadata": {},
   "outputs": [],
   "source": [
    "geolines = GeoLines(\"GeoLines 示例\", **style.init_style)\n",
    "geolines.add(\"The footmark of Tourist Cities (Domestic)\", data,\n",
    "                tooltip_formatter=\"{a} : {c}\",**style_geo\n",
    "                \n",
    "             )\n",
    "geolines.render('footmark.html')"
   ]
  },
  {
   "cell_type": "code",
   "execution_count": null,
   "metadata": {},
   "outputs": [],
   "source": [
    "geolines"
   ]
  },
  {
   "cell_type": "code",
   "execution_count": null,
   "metadata": {},
   "outputs": [],
   "source": []
  }
 ],
 "metadata": {
  "kernelspec": {
   "display_name": "Python 3",
   "language": "python",
   "name": "python3"
  },
  "language_info": {
   "codemirror_mode": {
    "name": "ipython",
    "version": 3
   },
   "file_extension": ".py",
   "mimetype": "text/x-python",
   "name": "python",
   "nbconvert_exporter": "python",
   "pygments_lexer": "ipython3",
   "version": "3.7.0"
  }
 },
 "nbformat": 4,
 "nbformat_minor": 2
}
