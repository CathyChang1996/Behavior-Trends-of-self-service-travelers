{
 "cells": [
  {
   "cell_type": "markdown",
   "metadata": {},
   "source": [
    "#Behavior Trends of  self-service travelers\n",
    "\n",
    "## Intro\n",
    "\n",
    "Chinese travelers footprints are spreading all over the world. The data from Tourism Department shows that the population of domestic tourists is more than 5 billion in 2017. It is expected that the population of domestic tourists would reach 6.3 billion in 2022. The number of Chinese people going on outbound tourism is ever-increasing. In the first half of 2018, the number of outbound tourists reached 71.31 million, an increase of 15% over the same period of last year.\n",
    "\n",
    "The population and the total expense on outbound traveling of Chinese people have ranked the first in the world for many years in a row. In addition, more and more tourists in Y/Z Generation use online travel application to book hotels, search for travel guides or share their traveling experience.\n",
    "\n",
    "Based on these macro data, we can see that there is a large promising market of online self-service travel platform in China, therefore, we try to find out more about those self-service travelers' behavior trends and optimize the online tourism platform operation, in order to improve users experience.\n",
    "\n",
    "## Sampling\n",
    "\n",
    "Mafengwo, as a famous UGC travel platform, the users of which are representatives of self-service travlers. In order to dig out more about self-service traveler behavior, we randomly selected 517 members of the Mafengwo Community, these users are active users on the Mafengwo platform and also self-service travel lovers. Then we scraped the information of these users, including gender, where they are from, countries and cities they've been to and the content they shared on the website.\n",
    "\n"
   ]
  },
  {
   "cell_type": "markdown",
   "metadata": {},
   "source": [
    "## Women,Women,Women...\n",
    "The percentage of female kol travelers is 55% while male is 45%.There is10% is more than men.We can see female traveller is the main force of tourism consumers.\n"
   ]
  },
  {
   "cell_type": "code",
   "execution_count": 8,
   "metadata": {},
   "outputs": [
    {
     "data": {
      "text/html": [
       "\n",
       "        <iframe\n",
       "            width=\"700\"\n",
       "            height=\"400\"\n",
       "            src=\"male_female.html\"\n",
       "            frameborder=\"0\"\n",
       "            allowfullscreen\n",
       "        ></iframe>\n",
       "        "
      ],
      "text/plain": [
       "<IPython.lib.display.IFrame at 0x10d58cda0>"
      ]
     },
     "execution_count": 8,
     "metadata": {},
     "output_type": "execute_result"
    }
   ],
   "source": [
    "from IPython.display import IFrame\n",
    "IFrame('male_female.html', width=700, height=400)"
   ]
  },
  {
   "cell_type": "markdown",
   "metadata": {},
   "source": [
    "## Where are they from?\n",
    "1.Beijing tops the list, which has nearly half kol travllers more than Shanghai ranking the 2nd.\n",
    "\n",
    "2.Among top15, Nanning ,Wenzhou and Dalian are 3 cities which are not form first-tier cities.\n",
    "\n",
    "3.Kol travellers form HK also appears in the top15."
   ]
  },
  {
   "cell_type": "code",
   "execution_count": 18,
   "metadata": {},
   "outputs": [
    {
     "data": {
      "image/png": "[encoded data removed]",
      "text/plain": [
       "<IPython.core.display.Image object>"
      ]
     },
     "execution_count": 18,
     "metadata": {},
     "output_type": "execute_result"
    }
   ],
   "source": [
    "from IPython.display import Image\n",
    "Image('traveller location.png')"
   ]
  },
  {
   "cell_type": "markdown",
   "metadata": {},
   "source": [
    "## What about outbound destinations trend?"
   ]
  },
  {
   "cell_type": "markdown",
   "metadata": {},
   "source": [
    "We can see that Thailand and Japan are the top 2 most popular Outbound Destinations. Constrained by budget and vacation time length, The popular places are almost in Asia. "
   ]
  },
  {
   "cell_type": "code",
   "execution_count": 6,
   "metadata": {},
   "outputs": [
    {
     "data": {
      "text/html": [
       "\n",
       "        <iframe\n",
       "            width=\"800\"\n",
       "            height=\"400\"\n",
       "            src=\"Top_15_Hot_Outbound_Destinations.html\"\n",
       "            frameborder=\"0\"\n",
       "            allowfullscreen\n",
       "        ></iframe>\n",
       "        "
      ],
      "text/plain": [
       "<IPython.lib.display.IFrame at 0x10e34f1d0>"
      ]
     },
     "execution_count": 6,
     "metadata": {},
     "output_type": "execute_result"
    }
   ],
   "source": [
    "from IPython.display import IFrame\n",
    "IFrame('Top_15_Hot_Outbound_Destinations.html', width=800, height=400)\n"
   ]
  },
  {
   "cell_type": "markdown",
   "metadata": {},
   "source": [
    "However, from the line chart below, we find that the variety of countries which people travel to is increasing steadly overtime and the increase rate enhance sharply in 2018. More and more self-service travelers tend to explore the countries in other continents, not limited in Asia. The footprints are spreading to Africa, South America, even Antarctica."
   ]
  },
  {
   "cell_type": "code",
   "execution_count": 2,
   "metadata": {},
   "outputs": [
    {
     "data": {
      "text/html": [
       "\n",
       "        <iframe\n",
       "            width=\"800\"\n",
       "            height=\"400\"\n",
       "            src=\"https://plot.ly/~CathyChang1996/2/abroad-vs-domestic/#/\"\n",
       "            frameborder=\"0\"\n",
       "            allowfullscreen\n",
       "        ></iframe>\n",
       "        "
      ],
      "text/plain": [
       "<IPython.lib.display.IFrame at 0x10d58c518>"
      ]
     },
     "execution_count": 2,
     "metadata": {},
     "output_type": "execute_result"
    }
   ],
   "source": [
    "from IPython.display import IFrame\n",
    "IFrame('https://plot.ly/~CathyChang1996/2/abroad-vs-domestic/#/', width=800, height=400)"
   ]
  },
  {
   "cell_type": "code",
   "execution_count": 3,
   "metadata": {},
   "outputs": [
    {
     "data": {
      "text/html": [
       "\n",
       "        <iframe\n",
       "            width=\"1000\"\n",
       "            height=\"500\"\n",
       "            src=\"https://infogram.com/2011-abroad-destination-1h9j6qdd7dde4gz?live.html\"\n",
       "            frameborder=\"0\"\n",
       "            allowfullscreen\n",
       "        ></iframe>\n",
       "        "
      ],
      "text/plain": [
       "<IPython.lib.display.IFrame at 0x10d58c5c0>"
      ]
     },
     "execution_count": 3,
     "metadata": {},
     "output_type": "execute_result"
    }
   ],
   "source": [
    "from IPython.display import IFrame\n",
    "IFrame('https://infogram.com/2011-abroad-destination-1h9j6qdd7dde4gz?live.html', width=1000, height=500)"
   ]
  },
  {
   "cell_type": "markdown",
   "metadata": {},
   "source": [
    "### Some Suggestions\n",
    "\n",
    "There is a huge potential market of outbound travel, because there are still a bunch of niche locations, such as Africa and South America. and travelers in China are getting more interested in exploring places in every corner of the world.\n",
    "\n",
    "Travel products for niche areas can be launched on the platform to increase the supporting services of these areas. Push based on the user's search content. In addition, the platform can also complement more travel strategies in small areas; cooperate with tourism kol to share high-quality content on the platform, and also publish advertisements on other social media platforms to attract more travelers with hobbies to the platform.\n",
    "(可以在平台上推出针对小众地区的旅游产品，增加这些地区的配套服务信息。根据用户的搜索内容进行推送。另外，平台也可以补充更多小众地区的旅游攻略；与旅游类kol合作，在平台上分享优质内容，也同时在其他社交媒体平台发布广告，吸引更多有探索爱好的traveler到平台上。)"
   ]
  },
  {
   "cell_type": "markdown",
   "metadata": {},
   "source": [
    "## What about domestic destinations?\n",
    "在境内热门旅游地中，北京，上海，香港，成都，厦门排名前列，\n",
    "在境内旅游人数和目的地多样性方面，头部用户的热情在近两年内显著下降，且旅游目的地集中在一些特定城市，例如北京，香港，上海，厦门，三亚等。这体现了自由行用户在境内旅游时的度假性质，即短期，多次，有针对性。可引进短租民宿平台（商家）信息，满足这一类人群的长期境内度假需求。\n"
   ]
  },
  {
   "cell_type": "code",
   "execution_count": 4,
   "metadata": {},
   "outputs": [
    {
     "data": {
      "text/html": [
       "\n",
       "        <iframe\n",
       "            width=\"800\"\n",
       "            height=\"400\"\n",
       "            src=\"Top_10_Hot_Domestic_Destinations.html\"\n",
       "            frameborder=\"0\"\n",
       "            allowfullscreen\n",
       "        ></iframe>\n",
       "        "
      ],
      "text/plain": [
       "<IPython.lib.display.IFrame at 0x10d58c630>"
      ]
     },
     "execution_count": 4,
     "metadata": {},
     "output_type": "execute_result"
    }
   ],
   "source": [
    "from IPython.display import IFrame\n",
    "IFrame('Top_10_Hot_Domestic_Destinations.html', width=800, height=400)"
   ]
  },
  {
   "cell_type": "code",
   "execution_count": 7,
   "metadata": {},
   "outputs": [
    {
     "data": {
      "text/html": [
       "<div>\n",
       "<style scoped>\n",
       "    .dataframe tbody tr th:only-of-type {\n",
       "        vertical-align: middle;\n",
       "    }\n",
       "\n",
       "    .dataframe tbody tr th {\n",
       "        vertical-align: top;\n",
       "    }\n",
       "\n",
       "    .dataframe thead th {\n",
       "        text-align: right;\n",
       "    }\n",
       "</style>\n",
       "<table border=\"1\" class=\"dataframe\">\n",
       "  <thead>\n",
       "    <tr style=\"text-align: right;\">\n",
       "      <th></th>\n",
       "      <th>Unnamed: 0</th>\n",
       "      <th>Counts</th>\n",
       "      <th>Top1</th>\n",
       "      <th>Top2</th>\n",
       "      <th>Top3</th>\n",
       "      <th>Top4</th>\n",
       "      <th>Top5</th>\n",
       "    </tr>\n",
       "  </thead>\n",
       "  <tbody>\n",
       "    <tr>\n",
       "      <th>0</th>\n",
       "      <td>2011.0</td>\n",
       "      <td>75.0</td>\n",
       "      <td>苏州</td>\n",
       "      <td>鼓浪屿</td>\n",
       "      <td>上海</td>\n",
       "      <td>厦门</td>\n",
       "      <td>广州</td>\n",
       "    </tr>\n",
       "    <tr>\n",
       "      <th>1</th>\n",
       "      <td>2012.0</td>\n",
       "      <td>100.0</td>\n",
       "      <td>北京</td>\n",
       "      <td>西安</td>\n",
       "      <td>西塘</td>\n",
       "      <td>青岛</td>\n",
       "      <td>婺源</td>\n",
       "    </tr>\n",
       "    <tr>\n",
       "      <th>2</th>\n",
       "      <td>2013.0</td>\n",
       "      <td>391.0</td>\n",
       "      <td>上海</td>\n",
       "      <td>北京</td>\n",
       "      <td>香港</td>\n",
       "      <td>成都</td>\n",
       "      <td>大理</td>\n",
       "    </tr>\n",
       "    <tr>\n",
       "      <th>3</th>\n",
       "      <td>2014.0</td>\n",
       "      <td>596.0</td>\n",
       "      <td>台北</td>\n",
       "      <td>北京</td>\n",
       "      <td>拉萨</td>\n",
       "      <td>香港</td>\n",
       "      <td>西安</td>\n",
       "    </tr>\n",
       "    <tr>\n",
       "      <th>4</th>\n",
       "      <td>2015.0</td>\n",
       "      <td>660.0</td>\n",
       "      <td>香港</td>\n",
       "      <td>上海</td>\n",
       "      <td>三亚</td>\n",
       "      <td>北京</td>\n",
       "      <td>丽江</td>\n",
       "    </tr>\n",
       "    <tr>\n",
       "      <th>5</th>\n",
       "      <td>2016.0</td>\n",
       "      <td>216.0</td>\n",
       "      <td>成都</td>\n",
       "      <td>厦门</td>\n",
       "      <td>三亚</td>\n",
       "      <td>哈尔滨</td>\n",
       "      <td>上海</td>\n",
       "    </tr>\n",
       "    <tr>\n",
       "      <th>6</th>\n",
       "      <td>2017.0</td>\n",
       "      <td>200.0</td>\n",
       "      <td>上海</td>\n",
       "      <td>台北</td>\n",
       "      <td>西安</td>\n",
       "      <td>厦门</td>\n",
       "      <td>北京</td>\n",
       "    </tr>\n",
       "    <tr>\n",
       "      <th>7</th>\n",
       "      <td>2018.0</td>\n",
       "      <td>177.0</td>\n",
       "      <td>香港</td>\n",
       "      <td>北京</td>\n",
       "      <td>重庆</td>\n",
       "      <td>厦门</td>\n",
       "      <td>成都</td>\n",
       "    </tr>\n",
       "  </tbody>\n",
       "</table>\n",
       "</div>"
      ],
      "text/plain": [
       "   Unnamed: 0  Counts             Top1             Top2             Top3  \\\n",
       "0      2011.0    75.0         苏州               鼓浪屿              上海         \n",
       "1      2012.0   100.0        北京               西安               西塘          \n",
       "2      2013.0   391.0        上海               北京               香港          \n",
       "3      2014.0   596.0  台北               北京               拉萨                \n",
       "4      2015.0   660.0         香港               上海               三亚         \n",
       "5      2016.0   216.0         成都               厦门               三亚         \n",
       "6      2017.0   200.0      上海               台北               西安            \n",
       "7      2018.0   177.0      香港               北京               重庆            \n",
       "\n",
       "              Top4         Top5  \n",
       "0               厦门       广州      \n",
       "1        青岛                婺源    \n",
       "2        成都           大理         \n",
       "3  香港                     西安     \n",
       "4         北京           丽江        \n",
       "5         哈尔滨          上海        \n",
       "6      厦门           北京           \n",
       "7      厦门           成都           "
      ]
     },
     "execution_count": 7,
     "metadata": {},
     "output_type": "execute_result"
    }
   ],
   "source": [
    "import pandas as pd\n",
    "df=pd.read_csv('Domestic_Travel_change.csv')\n",
    "df.drop(index=[8,9,10,11,12,13,14,15,16,17,18,19,20])"
   ]
  },
  {
   "cell_type": "code",
   "execution_count": 10,
   "metadata": {},
   "outputs": [
    {
     "data": {
      "text/html": [
       "\n",
       "        <iframe\n",
       "            width=\"800\"\n",
       "            height=\"400\"\n",
       "            src=\"domestic and overseas cities.html\"\n",
       "            frameborder=\"0\"\n",
       "            allowfullscreen\n",
       "        ></iframe>\n",
       "        "
      ],
      "text/plain": [
       "<IPython.lib.display.IFrame at 0x10d58cfd0>"
      ]
     },
     "execution_count": 10,
     "metadata": {},
     "output_type": "execute_result"
    }
   ],
   "source": [
    "from IPython.display import IFrame\n",
    "IFrame('domestic and overseas cities.html', width=800, height=400)"
   ]
  },
  {
   "cell_type": "markdown",
   "metadata": {},
   "source": [
    "Through the bar chart, it is obvious that the ranking is the same when compared the domestic cities travellers have been to and overseas cities. In general, top 10 travellers are all from first-tier cities and second-tier cities. \n",
    "\n",
    "To be more specific, Beijing travellers are the most passionate for travelling, especially in domestic. Moreover, the number of domestic cities Beijing travellers have been to are 606, which is the twice of the second place--Shanghai Travellers.\n",
    "\n",
    "Compared with the number of domestic cities and overseas cities, we can see the number of domestic cites is three times that of overseas cities. Therefore, travellers are more inclined to travel in demostic currently. However, we could focus more on tourism of overseas cities since they have high potential development from Chinese travellers."
   ]
  },
  {
   "cell_type": "markdown",
   "metadata": {},
   "source": [
    "# Tourists Composition of Domestic Tourist Cities"
   ]
  },
  {
   "cell_type": "markdown",
   "metadata": {},
   "source": [
    "We select top5 domestic tourist cities, and analyze tourist composition per city via China Map and pie chart."
   ]
  },
  {
   "cell_type": "code",
   "execution_count": 12,
   "metadata": {},
   "outputs": [
    {
     "data": {
      "text/html": [
       "\n",
       "        <iframe\n",
       "            width=\"1500\"\n",
       "            height=\"800\"\n",
       "            src=\"footmark.html\"\n",
       "            frameborder=\"0\"\n",
       "            allowfullscreen\n",
       "        ></iframe>\n",
       "        "
      ],
      "text/plain": [
       "<IPython.lib.display.IFrame at 0x10d58ccf8>"
      ]
     },
     "execution_count": 12,
     "metadata": {},
     "output_type": "execute_result"
    }
   ],
   "source": [
    "from IPython.display import IFrame\n",
    "IFrame('footmark.html', width=1500, height=800)"
   ]
  },
  {
   "cell_type": "markdown",
   "metadata": {},
   "source": [
    "From the map presented above, we can see the footmarks of tourists from the top5 domestic tourist cities. These footmarks almost concentrate on Eastern China.\n",
    "\n",
    "Beijing, as the capital of China, get most footmarks from multiple cities and also walk around various places most frequently. And Xiamen, the same as Beijing, have one of the furthest footmark from Shenyang."
   ]
  },
  {
   "cell_type": "code",
   "execution_count": 16,
   "metadata": {},
   "outputs": [
    {
     "data": {
      "text/html": [
       "\n",
       "        <iframe\n",
       "            width=\"800\"\n",
       "            height=\"200\"\n",
       "            src=\"domestic_tourist_composition.html\"\n",
       "            frameborder=\"0\"\n",
       "            allowfullscreen\n",
       "        ></iframe>\n",
       "        "
      ],
      "text/plain": [
       "<IPython.lib.display.IFrame at 0x1161da518>"
      ]
     },
     "execution_count": 16,
     "metadata": {},
     "output_type": "execute_result"
    }
   ],
   "source": [
    "from IPython.display import IFrame\n",
    "IFrame('domestic_tourist_composition.html', width=800, height=200)"
   ]
  },
  {
   "cell_type": "markdown",
   "metadata": {},
   "source": [
    "According to the ranking of the most popular cities, we analyzed top5 cities of China: they are Beijing, Hong Kong, Shanghai, Chengdu, Xiamen.\n",
    "\n",
    "As mentioned before, due to the highest emotion of travelling, Beijing travellers have the largest proportion of top5 cities. Other first-tier cities, such as Shanghai, Hong Kong. Chengdu, Xiamen, these second-tier cities are also the majority.\n",
    "\n",
    "There are some interesting points. We can find 38% tourists who have been to Beijing are local. Beijing possesses abundant tourism resources, and with the high pressure and little leisure time of citizens, people in Beijing tend to enjoy the side trip around Beijing instead of explore new places on weekend，which have high expensive of time and money. Therefore, it is advisable for online travel platforms to recommend more side trip-related products for Beijing Travellers to satisfy their travel demand."
   ]
  },
  {
   "cell_type": "markdown",
   "metadata": {},
   "source": [
    "## More Chengdu，Less Chongqing?! "
   ]
  },
  {
   "cell_type": "markdown",
   "metadata": {},
   "source": [
    "More Chengdu，Less Chongqing?!\n",
    "\n",
    "In the matrix,we intend to illustrate the correlation between tourist cities choice of travellers.\n",
    "There are 29 torist cities . Briefly，deep orange color presents strong positive relation while light orange color reprents weak relation.\n",
    "\n",
    "Now matter the relation is strong or weak ,positive or negative, we could give some advice to one of the platformrs' parterners －－governments .For example, there is a  relation between Chengdu and Chongqing.It means when tourists travel to Chengdu，it is less likely for them to travel to Chongqing.Why?Mainly cause those travellers think the 2 cities are nearly same.Travelling to one of them means getting the same experience(same food,same culture,same view).Therefore， if Chonging government tourist promotions want to advertise themself on the platform, we can suggest they can focus more on their difference from Chengdu."
   ]
  },
  {
   "cell_type": "code",
   "execution_count": 19,
   "metadata": {},
   "outputs": [
    {
     "data": {
      "image/png": "[encoded data removed]",
      "text/plain": [
       "<IPython.core.display.Image object>"
      ]
     },
     "execution_count": 19,
     "metadata": {},
     "output_type": "execute_result"
    }
   ],
   "source": [
    "from IPython.display import Image\n",
    "Image('heatmap.png')"
   ]
  },
  {
   "cell_type": "markdown",
   "metadata": {},
   "source": [
    "## What do travelers care about?"
   ]
  },
  {
   "cell_type": "markdown",
   "metadata": {},
   "source": [
    "As we analysized the content of  Q&A part， tthe destinations that people care about has changed from korean japan thailand to a various global view.\n",
    "中国旅行者自身的成长是这些趋势产生的重要原因，自由行游客正变得越来越精明。提问虽仍围绕行程规划、交通、景点、住宿和行前准备几个话题展开，但具体内容却有了明显的进阶和细分。例如“你最向往的自驾游目的地有哪些”、“哪些地方的风景照或者纪录片让你产生了一定要去一次的想法”、’你登过哪些风景绝美的山，又吃过怎样的苦’。\n",
    "\n",
    "\n",
    "根据细分体验，例如关键词频次非常高的拍照，可推出更多拍照类相关的旅游产品，比如’私人摄影师’，‘拍照一日团’，“毕业生旅行主题”。\n",
    "New topics of travel products like For Better Selfies or Graduates\n",
    "\n",
    "选择坐飞机和自驾的人是主流，更多非自驾游客到当地之后会考虑包车。自由行游客对租车游玩的需求大，可在在线旅游平台的目的地类目下增加租车的信息栏目。\n",
    "\n",
    "New info column on traffic tool : car-renting , driving survival guidebook\n",
    "\n",
    "对于在线旅游平台的线下社群运营方面，因为最受欢迎的娱乐方式是徒步，在2017年夏天，雨崩的火爆程度，可以看出自由行旅客对徒步方式的推崇和对小众目的地的探索热情。可以多多组织徒步旅行的经典路线游玩活动。吸引更多的户外运动爱好者参与。\n",
    "\n",
    "Special travel group offline\n",
    "\n",
    "\n"
   ]
  },
  {
   "cell_type": "code",
   "execution_count": null,
   "metadata": {},
   "outputs": [],
   "source": []
  }
 ],
 "metadata": {
  "kernelspec": {
   "display_name": "Python 3",
   "language": "python",
   "name": "python3"
  },
  "language_info": {
   "codemirror_mode": {
    "name": "ipython",
    "version": 3
   },
   "file_extension": ".py",
   "mimetype": "text/x-python",
   "name": "python",
   "nbconvert_exporter": "python",
   "pygments_lexer": "ipython3",
   "version": "3.7.0"
  }
 },
 "nbformat": 4,
 "nbformat_minor": 2
}
